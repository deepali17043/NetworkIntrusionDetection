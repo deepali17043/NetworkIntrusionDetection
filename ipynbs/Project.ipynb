{
  "nbformat": 4,
  "nbformat_minor": 0,
  "metadata": {
    "colab": {
      "provenance": [],
      "mount_file_id": "1TgbTWJw_xxuhPvBJnezMhdO1ISjPvCP9",
      "authorship_tag": "ABX9TyPj3NpEeR3ZluCuk7D35Nj0",
      "include_colab_link": true
    },
    "kernelspec": {
      "name": "python3",
      "display_name": "Python 3"
    },
    "language_info": {
      "name": "python"
    }
  },
  "cells": [
    {
      "cell_type": "markdown",
      "metadata": {
        "id": "view-in-github",
        "colab_type": "text"
      },
      "source": [
        "<a href=\"https://colab.research.google.com/github/deepali17043/NetworkIntrusionDetection/blob/main/Project.ipynb\" target=\"_parent\"><img src=\"https://colab.research.google.com/assets/colab-badge.svg\" alt=\"Open In Colab\"/></a>"
      ]
    },
    {
      "cell_type": "markdown",
      "source": [
        "# Imports/Misc"
      ],
      "metadata": {
        "id": "QkmDACGXnU3x"
      }
    },
    {
      "cell_type": "markdown",
      "source": [
        "Note: If running for small dataset on Google Colab, uncomment the following three lines/cells"
      ],
      "metadata": {
        "id": "R2G4sayBaF5N"
      }
    },
    {
      "cell_type": "code",
      "source": [
        "# !pip install pyspark"
      ],
      "metadata": {
        "colab": {
          "base_uri": "https://localhost:8080/"
        },
        "id": "xLp39CklN6rE",
        "outputId": "79f03bed-e34b-4149-d452-490e04544fd0"
      },
      "execution_count": null,
      "outputs": [
        {
          "output_type": "stream",
          "name": "stdout",
          "text": [
            "Collecting pyspark\n",
            "  Downloading pyspark-3.5.1.tar.gz (317.0 MB)\n",
            "\u001b[2K     \u001b[90m━━━━━━━━━━━━━━━━━━━━━━━━━━━━━━━━━━━━━━━━\u001b[0m \u001b[32m317.0/317.0 MB\u001b[0m \u001b[31m4.6 MB/s\u001b[0m eta \u001b[36m0:00:00\u001b[0m\n",
            "\u001b[?25h  Preparing metadata (setup.py) ... \u001b[?25l\u001b[?25hdone\n",
            "Requirement already satisfied: py4j==0.10.9.7 in /usr/local/lib/python3.10/dist-packages (from pyspark) (0.10.9.7)\n",
            "Building wheels for collected packages: pyspark\n",
            "  Building wheel for pyspark (setup.py) ... \u001b[?25l\u001b[?25hdone\n",
            "  Created wheel for pyspark: filename=pyspark-3.5.1-py2.py3-none-any.whl size=317488490 sha256=18e439c8a295d75b3db8d50c99817d485e6f5b5ce74677f2b647ee0865781055\n",
            "  Stored in directory: /root/.cache/pip/wheels/80/1d/60/2c256ed38dddce2fdd93be545214a63e02fbd8d74fb0b7f3a6\n",
            "Successfully built pyspark\n",
            "Installing collected packages: pyspark\n",
            "Successfully installed pyspark-3.5.1\n"
          ]
        }
      ]
    },
    {
      "cell_type": "code",
      "source": [
        "# %cd /path-to-project/           # replace path-to-project with your working directory that also has the small dataset."
      ],
      "metadata": {
        "colab": {
          "base_uri": "https://localhost:8080/"
        },
        "id": "5U9WUb7hndtW",
        "outputId": "37faecda-92cf-4ed2-e7d6-b86c7b11c0ad"
      },
      "execution_count": null,
      "outputs": [
        {
          "output_type": "stream",
          "name": "stdout",
          "text": [
            "/content/drive/MyDrive/Summer24/BigData/Project\n"
          ]
        }
      ]
    },
    {
      "cell_type": "code",
      "source": [
        "# !ls                             # confirm that the input file is present"
      ],
      "metadata": {
        "colab": {
          "base_uri": "https://localhost:8080/"
        },
        "id": "SZem5PT2nhXy",
        "outputId": "3b38c16d-b927-4e00-d206-12e2b9b2a7d6"
      },
      "execution_count": null,
      "outputs": [
        {
          "output_type": "stream",
          "name": "stdout",
          "text": [
            " generate_small_data.ipynb\t\t    small_dataset\n",
            " NF_UQ_NIDS_v2.csv.bz2\t\t\t    small_NF_UQ_NIDS_v2.csv\n",
            " Project.ipynb\t\t\t\t    spark-3.1.1-bin-hadoop3.2\n",
            "'Screenshot 2024-08-03 at 4.07.31 PM.png'   spark-3.1.1-bin-hadoop3.2.tgz\n"
          ]
        }
      ]
    },
    {
      "cell_type": "code",
      "source": [
        "import sys\n",
        "import numpy as np\n",
        "\n",
        "from pyspark.sql import SparkSession\n",
        "from pyspark.ml.feature import StringIndexer, VectorAssembler, OneHotEncoder\n",
        "from pyspark.ml.classification import RandomForestClassifier\n",
        "from pyspark.ml.evaluation import MulticlassClassificationEvaluator, BinaryClassificationEvaluator\n",
        "from pyspark.ml.tuning import ParamGridBuilder, CrossValidator\n",
        "from pyspark.ml.stat import Correlation\n",
        "from pyspark.ml import Pipeline"
      ],
      "metadata": {
        "id": "oxDXOHOfr_CN"
      },
      "execution_count": null,
      "outputs": []
    },
    {
      "cell_type": "code",
      "source": [
        "# Initialize Spark Session\n",
        "spark = SparkSession.builder.appName('NetworkIntrusionDetection').getOrCreate()"
      ],
      "metadata": {
        "id": "ZkCmd7psnqTH"
      },
      "execution_count": null,
      "outputs": []
    },
    {
      "cell_type": "markdown",
      "source": [
        "Uncomment the following two lines if running for small dataset on Google Colab"
      ],
      "metadata": {
        "id": "f9R-pvNzawar"
      }
    },
    {
      "cell_type": "code",
      "source": [
        "# sys.argv[1] = 'small_NF_UQ_NIDS_v2.csv'\n",
        "# sys.argv[2] = 'project_output_dir'"
      ],
      "metadata": {
        "id": "YPzBnpI_r27O"
      },
      "execution_count": null,
      "outputs": []
    },
    {
      "cell_type": "code",
      "source": [
        "input_file = sys.argv[1]\n",
        "output_dir = sys.argv[2]"
      ],
      "metadata": {
        "id": "ft0ZM1eCsEx0"
      },
      "execution_count": null,
      "outputs": []
    },
    {
      "cell_type": "code",
      "source": [
        "output_log = []"
      ],
      "metadata": {
        "id": "6DakYUpLArKY"
      },
      "execution_count": null,
      "outputs": []
    },
    {
      "cell_type": "markdown",
      "source": [
        "# Read Data and EDA"
      ],
      "metadata": {
        "id": "6Ho-vihMnp0U"
      }
    },
    {
      "cell_type": "code",
      "execution_count": null,
      "metadata": {
        "id": "W_oazNubMCI5"
      },
      "outputs": [],
      "source": [
        "# Load the data\n",
        "data = spark.read.csv(input_file, header=True, inferSchema=True)"
      ]
    },
    {
      "cell_type": "code",
      "source": [
        "data_schema = data.schema\n",
        "log = f'Data Read successful, schema infered:\\n{data_schema}'\n",
        "\n",
        "data.printSchema()\n",
        "output_log.append(log)"
      ],
      "metadata": {
        "colab": {
          "base_uri": "https://localhost:8080/"
        },
        "id": "wmji2gAwPS0A",
        "outputId": "ac1ca2fb-137a-4f2d-9468-658c14386d07"
      },
      "execution_count": null,
      "outputs": [
        {
          "output_type": "stream",
          "name": "stdout",
          "text": [
            "Data Read successful, schema infered:\n",
            "StructType([StructField('IPV4_SRC_ADDR', StringType(), True), StructField('L4_SRC_PORT', IntegerType(), True), StructField('IPV4_DST_ADDR', StringType(), True), StructField('L4_DST_PORT', IntegerType(), True), StructField('PROTOCOL', IntegerType(), True), StructField('L7_PROTO', DoubleType(), True), StructField('IN_BYTES', IntegerType(), True), StructField('IN_PKTS', IntegerType(), True), StructField('OUT_BYTES', IntegerType(), True), StructField('OUT_PKTS', IntegerType(), True), StructField('TCP_FLAGS', IntegerType(), True), StructField('CLIENT_TCP_FLAGS', IntegerType(), True), StructField('SERVER_TCP_FLAGS', IntegerType(), True), StructField('FLOW_DURATION_MILLISECONDS', IntegerType(), True), StructField('DURATION_IN', IntegerType(), True), StructField('DURATION_OUT', IntegerType(), True), StructField('MIN_TTL', IntegerType(), True), StructField('MAX_TTL', IntegerType(), True), StructField('LONGEST_FLOW_PKT', IntegerType(), True), StructField('SHORTEST_FLOW_PKT', IntegerType(), True), StructField('MIN_IP_PKT_LEN', IntegerType(), True), StructField('MAX_IP_PKT_LEN', IntegerType(), True), StructField('SRC_TO_DST_SECOND_BYTES', DoubleType(), True), StructField('DST_TO_SRC_SECOND_BYTES', DoubleType(), True), StructField('RETRANSMITTED_IN_BYTES', IntegerType(), True), StructField('RETRANSMITTED_IN_PKTS', IntegerType(), True), StructField('RETRANSMITTED_OUT_BYTES', IntegerType(), True), StructField('RETRANSMITTED_OUT_PKTS', IntegerType(), True), StructField('SRC_TO_DST_AVG_THROUGHPUT', LongType(), True), StructField('DST_TO_SRC_AVG_THROUGHPUT', LongType(), True), StructField('NUM_PKTS_UP_TO_128_BYTES', IntegerType(), True), StructField('NUM_PKTS_128_TO_256_BYTES', IntegerType(), True), StructField('NUM_PKTS_256_TO_512_BYTES', IntegerType(), True), StructField('NUM_PKTS_512_TO_1024_BYTES', IntegerType(), True), StructField('NUM_PKTS_1024_TO_1514_BYTES', IntegerType(), True), StructField('TCP_WIN_MAX_IN', IntegerType(), True), StructField('TCP_WIN_MAX_OUT', IntegerType(), True), StructField('ICMP_TYPE', IntegerType(), True), StructField('ICMP_IPV4_TYPE', IntegerType(), True), StructField('DNS_QUERY_ID', IntegerType(), True), StructField('DNS_QUERY_TYPE', IntegerType(), True), StructField('DNS_TTL_ANSWER', IntegerType(), True), StructField('FTP_COMMAND_RET_CODE', DoubleType(), True), StructField('Label', IntegerType(), True), StructField('Attack', StringType(), True), StructField('Dataset', StringType(), True)])\n"
          ]
        }
      ]
    },
    {
      "cell_type": "code",
      "source": [
        "data = data.drop('Dataset')"
      ],
      "metadata": {
        "id": "DfZ8KCcTS0cy"
      },
      "execution_count": null,
      "outputs": []
    },
    {
      "cell_type": "code",
      "source": [
        "output_label = 'Label'\n",
        "output_attack = 'Attack_index'\n",
        "output_columns = [output_label, output_attack]"
      ],
      "metadata": {
        "id": "l1AUPrm6OKMz"
      },
      "execution_count": null,
      "outputs": []
    },
    {
      "cell_type": "code",
      "source": [
        "categorical_columns = [field for (field, dataType) in data.dtypes if dataType == \"string\"]"
      ],
      "metadata": {
        "id": "CYChso2EDUC_"
      },
      "execution_count": null,
      "outputs": []
    },
    {
      "cell_type": "code",
      "source": [
        "data_desc = data.describe()\n",
        "log = f'Data Description:\\n{data_desc}'\n",
        "data_desc.show()\n",
        "output_log.append(log)"
      ],
      "metadata": {
        "colab": {
          "base_uri": "https://localhost:8080/"
        },
        "id": "3pBfpSqOnBn-",
        "outputId": "7cc503ab-78e6-4242-8521-b6ed3cc70bef"
      },
      "execution_count": null,
      "outputs": [
        {
          "output_type": "stream",
          "name": "stdout",
          "text": [
            "Data Description:\n",
            "DataFrame[summary: string, IPV4_SRC_ADDR: string, L4_SRC_PORT: string, IPV4_DST_ADDR: string, L4_DST_PORT: string, PROTOCOL: string, L7_PROTO: string, IN_BYTES: string, IN_PKTS: string, OUT_BYTES: string, OUT_PKTS: string, TCP_FLAGS: string, CLIENT_TCP_FLAGS: string, SERVER_TCP_FLAGS: string, FLOW_DURATION_MILLISECONDS: string, DURATION_IN: string, DURATION_OUT: string, MIN_TTL: string, MAX_TTL: string, LONGEST_FLOW_PKT: string, SHORTEST_FLOW_PKT: string, MIN_IP_PKT_LEN: string, MAX_IP_PKT_LEN: string, SRC_TO_DST_SECOND_BYTES: string, DST_TO_SRC_SECOND_BYTES: string, RETRANSMITTED_IN_BYTES: string, RETRANSMITTED_IN_PKTS: string, RETRANSMITTED_OUT_BYTES: string, RETRANSMITTED_OUT_PKTS: string, SRC_TO_DST_AVG_THROUGHPUT: string, DST_TO_SRC_AVG_THROUGHPUT: string, NUM_PKTS_UP_TO_128_BYTES: string, NUM_PKTS_128_TO_256_BYTES: string, NUM_PKTS_256_TO_512_BYTES: string, NUM_PKTS_512_TO_1024_BYTES: string, NUM_PKTS_1024_TO_1514_BYTES: string, TCP_WIN_MAX_IN: string, TCP_WIN_MAX_OUT: string, ICMP_TYPE: string, ICMP_IPV4_TYPE: string, DNS_QUERY_ID: string, DNS_QUERY_TYPE: string, DNS_TTL_ANSWER: string, FTP_COMMAND_RET_CODE: string, Label: string, Attack: string]\n"
          ]
        }
      ]
    },
    {
      "cell_type": "code",
      "source": [
        "# Index Catagorical columns to get correlation matrix\n",
        "indexers = [StringIndexer(inputCol=column, outputCol=column+\"_index\") for column in categorical_columns]\n",
        "encoders = [OneHotEncoder(inputCol=column+\"_index\", outputCol=column+\"_encoded\") for column in categorical_columns if column != 'Attack']\n",
        "pipeline = Pipeline(stages=indexers+encoders)\n",
        "data = pipeline.fit(data).transform(data)"
      ],
      "metadata": {
        "id": "1NdOjLU5DTRD"
      },
      "execution_count": null,
      "outputs": []
    },
    {
      "cell_type": "code",
      "source": [
        "data = data.drop(*categorical_columns)\n",
        "indexed_cols = [column+\"_index\" for column in categorical_columns if column != 'Attack']\n",
        "data = data.drop(*indexed_cols)"
      ],
      "metadata": {
        "id": "j3M5nK-VSsPL"
      },
      "execution_count": null,
      "outputs": []
    },
    {
      "cell_type": "code",
      "source": [
        "updated_schema = data.schema\n",
        "log = f'Data Schema after indexing and encoding:\\n{updated_schema}'\n",
        "\n",
        "data.printSchema()\n",
        "output_log.append(log)"
      ],
      "metadata": {
        "colab": {
          "base_uri": "https://localhost:8080/"
        },
        "id": "hCNFhMrhQXml",
        "outputId": "e6fb4a73-fec9-4b79-c9cb-159a1d426880"
      },
      "execution_count": null,
      "outputs": [
        {
          "output_type": "stream",
          "name": "stdout",
          "text": [
            "Data Schema after indexing and encoding:\n",
            "StructType([StructField('L4_SRC_PORT', IntegerType(), True), StructField('L4_DST_PORT', IntegerType(), True), StructField('PROTOCOL', IntegerType(), True), StructField('L7_PROTO', DoubleType(), True), StructField('IN_BYTES', IntegerType(), True), StructField('IN_PKTS', IntegerType(), True), StructField('OUT_BYTES', IntegerType(), True), StructField('OUT_PKTS', IntegerType(), True), StructField('TCP_FLAGS', IntegerType(), True), StructField('CLIENT_TCP_FLAGS', IntegerType(), True), StructField('SERVER_TCP_FLAGS', IntegerType(), True), StructField('FLOW_DURATION_MILLISECONDS', IntegerType(), True), StructField('DURATION_IN', IntegerType(), True), StructField('DURATION_OUT', IntegerType(), True), StructField('MIN_TTL', IntegerType(), True), StructField('MAX_TTL', IntegerType(), True), StructField('LONGEST_FLOW_PKT', IntegerType(), True), StructField('SHORTEST_FLOW_PKT', IntegerType(), True), StructField('MIN_IP_PKT_LEN', IntegerType(), True), StructField('MAX_IP_PKT_LEN', IntegerType(), True), StructField('SRC_TO_DST_SECOND_BYTES', DoubleType(), True), StructField('DST_TO_SRC_SECOND_BYTES', DoubleType(), True), StructField('RETRANSMITTED_IN_BYTES', IntegerType(), True), StructField('RETRANSMITTED_IN_PKTS', IntegerType(), True), StructField('RETRANSMITTED_OUT_BYTES', IntegerType(), True), StructField('RETRANSMITTED_OUT_PKTS', IntegerType(), True), StructField('SRC_TO_DST_AVG_THROUGHPUT', LongType(), True), StructField('DST_TO_SRC_AVG_THROUGHPUT', LongType(), True), StructField('NUM_PKTS_UP_TO_128_BYTES', IntegerType(), True), StructField('NUM_PKTS_128_TO_256_BYTES', IntegerType(), True), StructField('NUM_PKTS_256_TO_512_BYTES', IntegerType(), True), StructField('NUM_PKTS_512_TO_1024_BYTES', IntegerType(), True), StructField('NUM_PKTS_1024_TO_1514_BYTES', IntegerType(), True), StructField('TCP_WIN_MAX_IN', IntegerType(), True), StructField('TCP_WIN_MAX_OUT', IntegerType(), True), StructField('ICMP_TYPE', IntegerType(), True), StructField('ICMP_IPV4_TYPE', IntegerType(), True), StructField('DNS_QUERY_ID', IntegerType(), True), StructField('DNS_QUERY_TYPE', IntegerType(), True), StructField('DNS_TTL_ANSWER', IntegerType(), True), StructField('FTP_COMMAND_RET_CODE', DoubleType(), True), StructField('Label', IntegerType(), True), StructField('Attack_index', DoubleType(), False), StructField('IPV4_SRC_ADDR_encoded', VectorUDT(), True), StructField('IPV4_DST_ADDR_encoded', VectorUDT(), True)])\n"
          ]
        }
      ]
    },
    {
      "cell_type": "code",
      "source": [
        "feature_columns = [field for (field, dataType) in data.dtypes if (dataType in ['double', 'int']) & (field not in output_columns)]"
      ],
      "metadata": {
        "id": "7OniXvzXZHJc"
      },
      "execution_count": null,
      "outputs": []
    },
    {
      "cell_type": "markdown",
      "source": [
        "#### Compute correlations between features and the two output columns"
      ],
      "metadata": {
        "id": "np8C30-pbWNY"
      }
    },
    {
      "cell_type": "code",
      "source": [
        "label_corr = [(col, data.stat.corr(col, output_label)) for col in feature_columns]\n",
        "log = f'Correlation with Label:\\n{label_corr}'\n",
        "print(log)\n",
        "output_log.append(log)"
      ],
      "metadata": {
        "colab": {
          "base_uri": "https://localhost:8080/"
        },
        "id": "hPOJNNqYnCut",
        "outputId": "ca1e0105-142b-400e-ca59-aae7a5fb338b"
      },
      "execution_count": null,
      "outputs": [
        {
          "output_type": "stream",
          "name": "stdout",
          "text": [
            "Correlation with Label:\n",
            "[('L4_SRC_PORT', -0.2970770297137139), ('L4_DST_PORT', -0.1089288607847205), ('PROTOCOL', 0.0451885017479017), ('L7_PROTO', 0.38027546073261886), ('IN_BYTES', -0.01764480370422351), ('IN_PKTS', -0.006272327213910631), ('OUT_BYTES', -0.013547652959048442), ('OUT_PKTS', -0.021268306535884865), ('TCP_FLAGS', -0.27784372849679206), ('CLIENT_TCP_FLAGS', -0.28024965645780775), ('SERVER_TCP_FLAGS', -0.2981561685129924), ('FLOW_DURATION_MILLISECONDS', 0.6806141381425527), ('DURATION_IN', 0.45103167322641247), ('DURATION_OUT', 0.04236432854125922), ('MIN_TTL', 0.07248870805888227), ('MAX_TTL', 0.06955699057327304), ('LONGEST_FLOW_PKT', -0.2794073348405015), ('SHORTEST_FLOW_PKT', 0.14903897197160654), ('MIN_IP_PKT_LEN', -0.5118122523644874), ('MAX_IP_PKT_LEN', -0.2794073348405015), ('SRC_TO_DST_SECOND_BYTES', -0.008349061706112266), ('DST_TO_SRC_SECOND_BYTES', -0.008243838134781837), ('RETRANSMITTED_IN_BYTES', -0.013277961336664524), ('RETRANSMITTED_IN_PKTS', -0.018561883244988316), ('RETRANSMITTED_OUT_BYTES', -0.055554372123626156), ('RETRANSMITTED_OUT_PKTS', -0.07170020691824952), ('NUM_PKTS_UP_TO_128_BYTES', -0.022245854206336603), ('NUM_PKTS_128_TO_256_BYTES', -0.019111352737316702), ('NUM_PKTS_256_TO_512_BYTES', -0.015793693495142473), ('NUM_PKTS_512_TO_1024_BYTES', -0.028022793048075655), ('NUM_PKTS_1024_TO_1514_BYTES', -0.013430030737719699), ('TCP_WIN_MAX_IN', -0.09088320781520264), ('TCP_WIN_MAX_OUT', -0.26957005504774006), ('ICMP_TYPE', -0.011763145204151023), ('ICMP_IPV4_TYPE', -0.011762568628488837), ('DNS_QUERY_ID', -0.34653717827411695), ('DNS_QUERY_TYPE', -0.1327634833136163), ('DNS_TTL_ANSWER', -0.05214138447406868), ('FTP_COMMAND_RET_CODE', -0.06017987145958022)]\n"
          ]
        }
      ]
    },
    {
      "cell_type": "code",
      "source": [
        "attack_corr = [(col, data.stat.corr(col, output_attack)) for col in feature_columns]\n",
        "log = f'Correlation with Attack_index:\\n{attack_corr}'\n",
        "print(log)\n",
        "output_log.append(log)"
      ],
      "metadata": {
        "id": "OBXhngmgVRjM",
        "colab": {
          "base_uri": "https://localhost:8080/"
        },
        "outputId": "c3f2eba1-ed8a-4a4d-bca2-2c18d1ab7ede"
      },
      "execution_count": null,
      "outputs": [
        {
          "output_type": "stream",
          "name": "stdout",
          "text": [
            "Correlation with Attack_index:\n",
            "[('L4_SRC_PORT', -0.055796459671425026), ('L4_DST_PORT', 0.04631251035486179), ('PROTOCOL', -0.20482416917688845), ('L7_PROTO', -0.14018942007757668), ('IN_BYTES', -0.0064398311456250815), ('IN_PKTS', -0.007437149834683559), ('OUT_BYTES', -0.007472378715848047), ('OUT_PKTS', -0.009538090444948924), ('TCP_FLAGS', -0.127414313594926), ('CLIENT_TCP_FLAGS', -0.144057405614664), ('SERVER_TCP_FLAGS', -0.016426324437646828), ('FLOW_DURATION_MILLISECONDS', 0.10710531109507221), ('DURATION_IN', 0.08406499500166001), ('DURATION_OUT', 0.09964026936668045), ('MIN_TTL', -0.06458189207019564), ('MAX_TTL', -0.06603751288669163), ('LONGEST_FLOW_PKT', 0.03835057754871984), ('SHORTEST_FLOW_PKT', 0.147227907457668), ('MIN_IP_PKT_LEN', -0.02696167929558926), ('MAX_IP_PKT_LEN', 0.03835057754871984), ('SRC_TO_DST_SECOND_BYTES', -0.005122078373183468), ('DST_TO_SRC_SECOND_BYTES', -0.005055813751691971), ('RETRANSMITTED_IN_BYTES', -0.0005881511260798234), ('RETRANSMITTED_IN_PKTS', -0.008360171025495243), ('RETRANSMITTED_OUT_BYTES', -0.030660231354185264), ('RETRANSMITTED_OUT_PKTS', -0.03838540918530769), ('NUM_PKTS_UP_TO_128_BYTES', -0.014226238177691496), ('NUM_PKTS_128_TO_256_BYTES', -0.006758288714131364), ('NUM_PKTS_256_TO_512_BYTES', -0.006991009497732503), ('NUM_PKTS_512_TO_1024_BYTES', -0.010877497286796274), ('NUM_PKTS_1024_TO_1514_BYTES', -0.0071990323084369), ('TCP_WIN_MAX_IN', 0.08864568066919262), ('TCP_WIN_MAX_OUT', 0.027082954116767102), ('ICMP_TYPE', 0.004300223012365443), ('ICMP_IPV4_TYPE', 0.004300541498856642), ('DNS_QUERY_ID', -0.12711984505757976), ('DNS_QUERY_TYPE', 0.00958661639514865), ('DNS_TTL_ANSWER', -0.030667617480599946), ('FTP_COMMAND_RET_CODE', 0.016322109857458588)]\n"
          ]
        }
      ]
    },
    {
      "cell_type": "markdown",
      "source": [
        "#### Assemble features and create train-test split"
      ],
      "metadata": {
        "id": "wfZy4lJhbdr-"
      }
    },
    {
      "cell_type": "code",
      "source": [
        "# Assemble features\n",
        "assembler = VectorAssembler(inputCols=feature_columns, outputCol=\"features\")\n",
        "data = assembler.transform(data)\n",
        "\n",
        "# Select label and features columns\n",
        "data_multi = data.select(\"features\", \"Attack_index\")\n",
        "data_binary = data.select(\"features\", \"Label\")\n",
        "\n",
        "# Split the data\n",
        "(Train_multi, Test_multi) = data_multi.randomSplit([0.7, 0.3], seed=42)\n",
        "(Train_binary, Test_binary) = data_binary.randomSplit([0.7, 0.3], seed=42)"
      ],
      "metadata": {
        "id": "2PUO0ASzZEUr"
      },
      "execution_count": null,
      "outputs": []
    },
    {
      "cell_type": "code",
      "source": [
        "log = 'EDA Completed & Data Splits created'\n",
        "print(log)\n",
        "output_log.append(log)"
      ],
      "metadata": {
        "colab": {
          "base_uri": "https://localhost:8080/"
        },
        "id": "_c31uXyVCYWv",
        "outputId": "04c767fa-f3d9-4615-e43e-1a415e497b1d"
      },
      "execution_count": null,
      "outputs": [
        {
          "output_type": "stream",
          "name": "stdout",
          "text": [
            "EDA Completed\n"
          ]
        }
      ]
    },
    {
      "cell_type": "markdown",
      "source": [
        "# Random Forest Classifier"
      ],
      "metadata": {
        "id": "2WJhU_bAn1gV"
      }
    },
    {
      "cell_type": "markdown",
      "source": [
        "### Binary Classification - Attack (1) or not (0)"
      ],
      "metadata": {
        "id": "OZZXEx6ho4gR"
      }
    },
    {
      "cell_type": "code",
      "source": [
        "log = 'Binary Classification - Attack (1) or not (0) - starting'\n",
        "print(log)\n",
        "output_log.append(log)"
      ],
      "metadata": {
        "colab": {
          "base_uri": "https://localhost:8080/"
        },
        "id": "XRJIbAX-Cdpl",
        "outputId": "26e2985f-c787-4916-b891-30e13dc42b6b"
      },
      "execution_count": null,
      "outputs": [
        {
          "output_type": "stream",
          "name": "stdout",
          "text": [
            "Binary Classification - Attack (1) or not (0) - starting\n"
          ]
        }
      ]
    },
    {
      "cell_type": "code",
      "source": [
        "# Train a RandomForest model\n",
        "rf = RandomForestClassifier(labelCol=\"Label\", featuresCol=\"features\", numTrees=10)\n",
        "\n",
        "# Train model\n",
        "model = rf.fit(Train_binary)\n",
        "\n",
        "# Make predictions\n",
        "predictions = model.transform(Test_binary)"
      ],
      "metadata": {
        "id": "sqfVCa71CnZ6"
      },
      "execution_count": null,
      "outputs": []
    },
    {
      "cell_type": "code",
      "source": [
        "# Evaluate the model\n",
        "evaluator = BinaryClassificationEvaluator(labelCol=\"Label\", metricName=\"areaUnderROC\")\n",
        "areaUnderROC = evaluator.evaluate(predictions)\n",
        "log = f\"Test areaUnderROC - with standard RF model: {areaUnderROC}\"\n",
        "print(log)\n",
        "output_log.append(log)"
      ],
      "metadata": {
        "colab": {
          "base_uri": "https://localhost:8080/"
        },
        "id": "dszHQmx1CpH3",
        "outputId": "ff6a4a3e-2848-4f05-deb9-ef8e8c7d4680"
      },
      "execution_count": null,
      "outputs": [
        {
          "output_type": "stream",
          "name": "stdout",
          "text": [
            "Test areaUnderROC - with standard RF model: 0.9931896753892805\n"
          ]
        }
      ]
    },
    {
      "cell_type": "code",
      "source": [
        "# Hyperparameter tuning\n",
        "paramGrid = ParamGridBuilder().addGrid(rf.numTrees, [10, 20, 30]).build()\n",
        "crossval = CrossValidator(estimator=rf, estimatorParamMaps=paramGrid, evaluator=evaluator, numFolds=3)\n",
        "cvModel_bin = crossval.fit(Train_binary)\n",
        "\n",
        "# Make predictions with the best model\n",
        "predictions = cvModel_bin.transform(Test_binary)\n",
        "areaUnderROC = evaluator.evaluate(predictions)\n",
        "log = f\"Test areaUnderROC - with tuned RF model (using 3-fold CrossValidation): {areaUnderROC}\"\n",
        "print(log)\n",
        "output_log.append(log)"
      ],
      "metadata": {
        "id": "XCPNoLuan483",
        "colab": {
          "base_uri": "https://localhost:8080/"
        },
        "outputId": "22ac8229-5170-4d58-d905-1187917904f5"
      },
      "execution_count": null,
      "outputs": [
        {
          "output_type": "stream",
          "name": "stdout",
          "text": [
            "Test areaUnderROC - with tuned RF model (using 3-fold CrossValidation): 0.993306228874039\n"
          ]
        }
      ]
    },
    {
      "cell_type": "code",
      "source": [
        "cvModel_bin.bestModel.save(output_dir+'/best_model_bin')\n",
        "log = f'Best Model for binary classification saved to {output_dir}/best_model_bin'\n",
        "print(log)\n",
        "print(f'Best Model: {cvModel_bin.bestModel}')\n",
        "output_log.append(log)"
      ],
      "metadata": {
        "colab": {
          "base_uri": "https://localhost:8080/"
        },
        "id": "Y7x-ooc2-i7t",
        "outputId": "d3c3f99c-f45f-457e-dbde-df9665055def"
      },
      "execution_count": null,
      "outputs": [
        {
          "output_type": "stream",
          "name": "stdout",
          "text": [
            "Best Model for binary classification saved to project_output_dir/best_model_bin\n"
          ]
        }
      ]
    },
    {
      "cell_type": "markdown",
      "source": [
        "### Multi-class classification - Attack type"
      ],
      "metadata": {
        "id": "LFenXByXplq-"
      }
    },
    {
      "cell_type": "code",
      "source": [
        "log = 'Multi-class classification - Attack type - starting'\n",
        "print(log)\n",
        "output_log.append(log)"
      ],
      "metadata": {
        "colab": {
          "base_uri": "https://localhost:8080/"
        },
        "id": "5-DnhQHsDGFo",
        "outputId": "21d0c6ca-3b0a-4ea6-f9e4-980fb88a9a0b"
      },
      "execution_count": null,
      "outputs": [
        {
          "output_type": "stream",
          "name": "stdout",
          "text": [
            "Multi-class classification - Attack type - starting\n"
          ]
        }
      ]
    },
    {
      "cell_type": "code",
      "source": [
        "# Train a RandomForest model\n",
        "rf = RandomForestClassifier(labelCol=\"Attack_index\", featuresCol=\"features\", numTrees=10)\n",
        "\n",
        "# Train model\n",
        "model = rf.fit(Train_multi)\n",
        "\n",
        "# Make predictions\n",
        "predictions = model.transform(Test_multi)"
      ],
      "metadata": {
        "id": "KIelG48_DE06"
      },
      "execution_count": null,
      "outputs": []
    },
    {
      "cell_type": "code",
      "source": [
        "# Evaluate the model\n",
        "evaluator = MulticlassClassificationEvaluator(labelCol=\"Attack_index\", predictionCol=\"prediction\", metricName=\"accuracy\")\n",
        "accuracy = evaluator.evaluate(predictions)\n",
        "log = f\"Test Accuracy - with standard RF model: {accuracy}\"\n",
        "print(log)\n",
        "output_log.append(log)"
      ],
      "metadata": {
        "colab": {
          "base_uri": "https://localhost:8080/"
        },
        "id": "hGIN6RybDJ0p",
        "outputId": "c1bf7da6-5544-4f8b-d1b8-c6be67064123"
      },
      "execution_count": null,
      "outputs": [
        {
          "output_type": "stream",
          "name": "stdout",
          "text": [
            "Test Accuracy - with standard RF model: 0.8805421153499084\n"
          ]
        }
      ]
    },
    {
      "cell_type": "code",
      "source": [
        "# Hyperparameter tuning\n",
        "paramGrid = ParamGridBuilder().addGrid(rf.numTrees, [10, 20, 30]).build()\n",
        "crossval = CrossValidator(estimator=rf, estimatorParamMaps=paramGrid, evaluator=evaluator, numFolds=3)\n",
        "cvModel_multi = crossval.fit(Train_multi)\n",
        "\n",
        "# Make predictions with the best model\n",
        "predictions = cvModel_multi.transform(Test_multi)\n",
        "accuracy = evaluator.evaluate(predictions)\n",
        "log = f\"Test Accuracy - with tuned RF model (using 3-fold CrossValidation): {accuracy}\"\n",
        "print(log)\n",
        "output_log.append(log)"
      ],
      "metadata": {
        "id": "WRf0kQkGpreo",
        "colab": {
          "base_uri": "https://localhost:8080/"
        },
        "outputId": "9e704a7f-17df-4bea-a48c-8f6a56f9aaa6"
      },
      "execution_count": null,
      "outputs": [
        {
          "output_type": "stream",
          "name": "stderr",
          "text": [
            "Exception ignored in: <function JavaWrapper.__del__ at 0x7bf23c26da20>\n",
            "Traceback (most recent call last):\n",
            "  File \"/usr/local/lib/python3.10/dist-packages/pyspark/ml/wrapper.py\", line 53, in __del__\n",
            "    if SparkContext._active_spark_context and self._java_obj is not None:\n",
            "AttributeError: 'BinaryClassificationEvaluator' object has no attribute '_java_obj'\n"
          ]
        },
        {
          "output_type": "stream",
          "name": "stdout",
          "text": [
            "Test Accuracy - with tuned RF model (using 3-fold CrossValidation): 0.8739418523706804\n"
          ]
        }
      ]
    },
    {
      "cell_type": "code",
      "source": [
        "cvModel_multi.bestModel.save(output_dir+'/best_model_multi')\n",
        "log = f'Best Model for multi-class classification saved to {output_dir}/best_model_multi'\n",
        "print(log)\n",
        "print(f'Best Model: {cvModel_multi.bestModel}')\n",
        "output_log.append(log)"
      ],
      "metadata": {
        "colab": {
          "base_uri": "https://localhost:8080/"
        },
        "id": "YmkiQwt4-lgp",
        "outputId": "00559a5c-79aa-455c-bb30-1c787de4aca4"
      },
      "execution_count": null,
      "outputs": [
        {
          "output_type": "stream",
          "name": "stdout",
          "text": [
            "Best Model for multi-class classification saved to project_output_dir/best_model_multi\n",
            "Best Model: RandomForestClassificationModel: uid=RandomForestClassifier_b324af8cc291, numTrees=30, numClasses=19, numFeatures=39\n"
          ]
        }
      ]
    },
    {
      "cell_type": "markdown",
      "source": [
        "# Write output to output file and conclude"
      ],
      "metadata": {
        "id": "GM0vMhKV_uHW"
      }
    },
    {
      "cell_type": "code",
      "source": [
        "# output_dir = 'output_dir'"
      ],
      "metadata": {
        "id": "kdgVF7rRFjr3"
      },
      "execution_count": null,
      "outputs": []
    },
    {
      "cell_type": "code",
      "source": [
        "output_rdd = spark.sparkContext.parallelize(output_log)\n",
        "output_rdd.saveAsTextFile(f'{output_dir}/output_logs')"
      ],
      "metadata": {
        "id": "Y2539RaP_4TD"
      },
      "execution_count": null,
      "outputs": []
    },
    {
      "cell_type": "code",
      "source": [
        "spark.stop()"
      ],
      "metadata": {
        "id": "3c4wbBrVpqWv"
      },
      "execution_count": null,
      "outputs": []
    }
  ]
}