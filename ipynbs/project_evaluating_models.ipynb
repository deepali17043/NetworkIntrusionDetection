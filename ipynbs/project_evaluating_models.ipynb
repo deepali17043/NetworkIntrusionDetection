{
  "nbformat": 4,
  "nbformat_minor": 0,
  "metadata": {
    "colab": {
      "provenance": [],
      "mount_file_id": "1hIuGckB9nQxSpPyR2KRc76W767aS-7qH",
      "authorship_tag": "ABX9TyPjGX84Ly6Ozx55PBqPp8E6",
      "include_colab_link": true
    },
    "kernelspec": {
      "name": "python3",
      "display_name": "Python 3"
    },
    "language_info": {
      "name": "python"
    }
  },
  "cells": [
    {
      "cell_type": "markdown",
      "metadata": {
        "id": "view-in-github",
        "colab_type": "text"
      },
      "source": [
        "<a href=\"https://colab.research.google.com/github/deepali17043/NetworkIntrusionDetection/blob/main/project_evaluating_models.ipynb\" target=\"_parent\"><img src=\"https://colab.research.google.com/assets/colab-badge.svg\" alt=\"Open In Colab\"/></a>"
      ]
    },
    {
      "cell_type": "markdown",
      "source": [
        "# Imports/Misc"
      ],
      "metadata": {
        "id": "QkmDACGXnU3x"
      }
    },
    {
      "cell_type": "markdown",
      "source": [
        "Note: If running for small dataset on Google Colab, uncomment the following three lines/cells"
      ],
      "metadata": {
        "id": "R2G4sayBaF5N"
      }
    },
    {
      "cell_type": "code",
      "source": [
        "# !pip install pyspark"
      ],
      "metadata": {
        "colab": {
          "base_uri": "https://localhost:8080/"
        },
        "id": "xLp39CklN6rE",
        "outputId": "69de1c6a-7678-4b5d-93fa-0c728d8560ab"
      },
      "execution_count": 40,
      "outputs": [
        {
          "output_type": "stream",
          "name": "stdout",
          "text": [
            "Requirement already satisfied: pyspark in /usr/local/lib/python3.10/dist-packages (3.5.1)\n",
            "Requirement already satisfied: py4j==0.10.9.7 in /usr/local/lib/python3.10/dist-packages (from pyspark) (0.10.9.7)\n"
          ]
        }
      ]
    },
    {
      "cell_type": "code",
      "source": [
        "# %cd /path-to-project/\n",
        "# replace path-to-project with your working directory that also has the small dataset."
      ],
      "metadata": {
        "colab": {
          "base_uri": "https://localhost:8080/"
        },
        "id": "5U9WUb7hndtW",
        "outputId": "14bc62c9-8875-431c-9a24-544151924839"
      },
      "execution_count": 41,
      "outputs": [
        {
          "output_type": "stream",
          "name": "stdout",
          "text": [
            "/content/drive/MyDrive/Summer24/BigData/Project\n"
          ]
        }
      ]
    },
    {
      "cell_type": "code",
      "source": [
        "# !ls\n",
        "# confirm that the input file is present"
      ],
      "metadata": {
        "colab": {
          "base_uri": "https://localhost:8080/"
        },
        "id": "SZem5PT2nhXy",
        "outputId": "ac6b7e6f-897d-48dd-fc31-4bddc2c20835"
      },
      "execution_count": 42,
      "outputs": [
        {
          "output_type": "stream",
          "name": "stdout",
          "text": [
            " generate_small_data.ipynb\t   project_report.gdoc\n",
            " NF_UQ_NIDS_v2.csv.bz2\t\t  'Screenshot 2024-08-03 at 4.07.31 PM.png'\n",
            " output_dir\t\t\t   small_dataset\n",
            " project_evaluating_models.ipynb   small_NF_UQ_NIDS_v2.csv\n",
            " Project.ipynb\t\t\t   spark-3.1.1-bin-hadoop3.2\n",
            " project_output_dir\t\t   spark-3.1.1-bin-hadoop3.2.tgz\n",
            " project_presentation.gslides\n"
          ]
        }
      ]
    },
    {
      "cell_type": "code",
      "source": [
        "import sys\n",
        "import numpy as np\n",
        "\n",
        "from pyspark.sql import SparkSession\n",
        "from pyspark.ml.feature import StringIndexer, VectorAssembler, OneHotEncoder\n",
        "from pyspark.ml.classification import RandomForestClassifier, RandomForestClassificationModel\n",
        "from pyspark.ml.evaluation import MulticlassClassificationEvaluator, BinaryClassificationEvaluator\n",
        "from pyspark.ml.tuning import ParamGridBuilder, CrossValidator, CrossValidatorModel\n",
        "from pyspark.ml.stat import Correlation\n",
        "from pyspark.ml import Pipeline\n",
        "from pyspark.mllib.evaluation import MulticlassMetrics"
      ],
      "metadata": {
        "id": "oxDXOHOfr_CN"
      },
      "execution_count": 43,
      "outputs": []
    },
    {
      "cell_type": "code",
      "source": [
        "# Initialize Spark Session\n",
        "spark = SparkSession.builder.appName('NIDS_eval').getOrCreate()"
      ],
      "metadata": {
        "id": "ZkCmd7psnqTH"
      },
      "execution_count": 44,
      "outputs": []
    },
    {
      "cell_type": "markdown",
      "source": [
        "Uncomment the following two lines if running for small dataset on Google Colab"
      ],
      "metadata": {
        "id": "f9R-pvNzawar"
      }
    },
    {
      "cell_type": "code",
      "source": [
        "# sys.argv[1] = 'small_NF_UQ_NIDS_v2.csv'\n",
        "# sys.argv[2] = 'project_output_dir'"
      ],
      "metadata": {
        "id": "YPzBnpI_r27O"
      },
      "execution_count": 45,
      "outputs": []
    },
    {
      "cell_type": "code",
      "source": [
        "input_file = sys.argv[1]\n",
        "output_dir = sys.argv[2]"
      ],
      "metadata": {
        "id": "ft0ZM1eCsEx0"
      },
      "execution_count": 46,
      "outputs": []
    },
    {
      "cell_type": "code",
      "source": [
        "output_log = []"
      ],
      "metadata": {
        "id": "6DakYUpLArKY"
      },
      "execution_count": 47,
      "outputs": []
    },
    {
      "cell_type": "markdown",
      "source": [
        "# Read Data and EDA"
      ],
      "metadata": {
        "id": "6Ho-vihMnp0U"
      }
    },
    {
      "cell_type": "code",
      "execution_count": 48,
      "metadata": {
        "id": "W_oazNubMCI5"
      },
      "outputs": [],
      "source": [
        "# Load the data\n",
        "data = spark.read.csv(input_file, header=True, inferSchema=True)"
      ]
    },
    {
      "cell_type": "code",
      "source": [
        "data_schema = data.schema\n",
        "log = f'Data Read successful, schema infered:\\n{data_schema}'\n",
        "\n",
        "data.printSchema()\n",
        "output_log.append(log)"
      ],
      "metadata": {
        "colab": {
          "base_uri": "https://localhost:8080/"
        },
        "id": "wmji2gAwPS0A",
        "outputId": "c7178d1a-eddc-4266-9c59-e45fc13382e1"
      },
      "execution_count": 49,
      "outputs": [
        {
          "output_type": "stream",
          "name": "stdout",
          "text": [
            "root\n",
            " |-- IPV4_SRC_ADDR: string (nullable = true)\n",
            " |-- L4_SRC_PORT: integer (nullable = true)\n",
            " |-- IPV4_DST_ADDR: string (nullable = true)\n",
            " |-- L4_DST_PORT: integer (nullable = true)\n",
            " |-- PROTOCOL: integer (nullable = true)\n",
            " |-- L7_PROTO: double (nullable = true)\n",
            " |-- IN_BYTES: integer (nullable = true)\n",
            " |-- IN_PKTS: integer (nullable = true)\n",
            " |-- OUT_BYTES: integer (nullable = true)\n",
            " |-- OUT_PKTS: integer (nullable = true)\n",
            " |-- TCP_FLAGS: integer (nullable = true)\n",
            " |-- CLIENT_TCP_FLAGS: integer (nullable = true)\n",
            " |-- SERVER_TCP_FLAGS: integer (nullable = true)\n",
            " |-- FLOW_DURATION_MILLISECONDS: integer (nullable = true)\n",
            " |-- DURATION_IN: integer (nullable = true)\n",
            " |-- DURATION_OUT: integer (nullable = true)\n",
            " |-- MIN_TTL: integer (nullable = true)\n",
            " |-- MAX_TTL: integer (nullable = true)\n",
            " |-- LONGEST_FLOW_PKT: integer (nullable = true)\n",
            " |-- SHORTEST_FLOW_PKT: integer (nullable = true)\n",
            " |-- MIN_IP_PKT_LEN: integer (nullable = true)\n",
            " |-- MAX_IP_PKT_LEN: integer (nullable = true)\n",
            " |-- SRC_TO_DST_SECOND_BYTES: double (nullable = true)\n",
            " |-- DST_TO_SRC_SECOND_BYTES: double (nullable = true)\n",
            " |-- RETRANSMITTED_IN_BYTES: integer (nullable = true)\n",
            " |-- RETRANSMITTED_IN_PKTS: integer (nullable = true)\n",
            " |-- RETRANSMITTED_OUT_BYTES: integer (nullable = true)\n",
            " |-- RETRANSMITTED_OUT_PKTS: integer (nullable = true)\n",
            " |-- SRC_TO_DST_AVG_THROUGHPUT: long (nullable = true)\n",
            " |-- DST_TO_SRC_AVG_THROUGHPUT: long (nullable = true)\n",
            " |-- NUM_PKTS_UP_TO_128_BYTES: integer (nullable = true)\n",
            " |-- NUM_PKTS_128_TO_256_BYTES: integer (nullable = true)\n",
            " |-- NUM_PKTS_256_TO_512_BYTES: integer (nullable = true)\n",
            " |-- NUM_PKTS_512_TO_1024_BYTES: integer (nullable = true)\n",
            " |-- NUM_PKTS_1024_TO_1514_BYTES: integer (nullable = true)\n",
            " |-- TCP_WIN_MAX_IN: integer (nullable = true)\n",
            " |-- TCP_WIN_MAX_OUT: integer (nullable = true)\n",
            " |-- ICMP_TYPE: integer (nullable = true)\n",
            " |-- ICMP_IPV4_TYPE: integer (nullable = true)\n",
            " |-- DNS_QUERY_ID: integer (nullable = true)\n",
            " |-- DNS_QUERY_TYPE: integer (nullable = true)\n",
            " |-- DNS_TTL_ANSWER: integer (nullable = true)\n",
            " |-- FTP_COMMAND_RET_CODE: double (nullable = true)\n",
            " |-- Label: integer (nullable = true)\n",
            " |-- Attack: string (nullable = true)\n",
            " |-- Dataset: string (nullable = true)\n",
            "\n"
          ]
        }
      ]
    },
    {
      "cell_type": "code",
      "source": [
        "data = data.drop('Dataset')"
      ],
      "metadata": {
        "id": "DfZ8KCcTS0cy"
      },
      "execution_count": 50,
      "outputs": []
    },
    {
      "cell_type": "code",
      "source": [
        "output_label = 'Label'\n",
        "output_attack = 'Attack_index'\n",
        "output_columns = [output_label, output_attack]"
      ],
      "metadata": {
        "id": "l1AUPrm6OKMz"
      },
      "execution_count": 51,
      "outputs": []
    },
    {
      "cell_type": "code",
      "source": [
        "categorical_columns = [field for (field, dataType) in data.dtypes if dataType == \"string\"]"
      ],
      "metadata": {
        "id": "CYChso2EDUC_"
      },
      "execution_count": 52,
      "outputs": []
    },
    {
      "cell_type": "code",
      "source": [
        "data_desc = data.describe()\n",
        "log = f'Data Description:\\n{data_desc}'\n",
        "data_desc.show()\n",
        "output_log.append(log)"
      ],
      "metadata": {
        "colab": {
          "base_uri": "https://localhost:8080/"
        },
        "id": "3pBfpSqOnBn-",
        "outputId": "d482ce97-94aa-486c-84e5-2a7a45e7b29b"
      },
      "execution_count": 53,
      "outputs": [
        {
          "output_type": "stream",
          "name": "stdout",
          "text": [
            "+-------+-------------+------------------+-------------+------------------+------------------+-----------------+------------------+-----------------+-----------------+------------------+------------------+------------------+------------------+--------------------------+-----------------+------------------+------------------+-----------------+------------------+------------------+------------------+------------------+-----------------------+-----------------------+----------------------+---------------------+-----------------------+----------------------+-------------------------+-------------------------+------------------------+-------------------------+-------------------------+--------------------------+---------------------------+-----------------+------------------+------------------+------------------+------------------+-----------------+-----------------+--------------------+-------------------+--------+\n",
            "|summary|IPV4_SRC_ADDR|       L4_SRC_PORT|IPV4_DST_ADDR|       L4_DST_PORT|          PROTOCOL|         L7_PROTO|          IN_BYTES|          IN_PKTS|        OUT_BYTES|          OUT_PKTS|         TCP_FLAGS|  CLIENT_TCP_FLAGS|  SERVER_TCP_FLAGS|FLOW_DURATION_MILLISECONDS|      DURATION_IN|      DURATION_OUT|           MIN_TTL|          MAX_TTL|  LONGEST_FLOW_PKT| SHORTEST_FLOW_PKT|    MIN_IP_PKT_LEN|    MAX_IP_PKT_LEN|SRC_TO_DST_SECOND_BYTES|DST_TO_SRC_SECOND_BYTES|RETRANSMITTED_IN_BYTES|RETRANSMITTED_IN_PKTS|RETRANSMITTED_OUT_BYTES|RETRANSMITTED_OUT_PKTS|SRC_TO_DST_AVG_THROUGHPUT|DST_TO_SRC_AVG_THROUGHPUT|NUM_PKTS_UP_TO_128_BYTES|NUM_PKTS_128_TO_256_BYTES|NUM_PKTS_256_TO_512_BYTES|NUM_PKTS_512_TO_1024_BYTES|NUM_PKTS_1024_TO_1514_BYTES|   TCP_WIN_MAX_IN|   TCP_WIN_MAX_OUT|         ICMP_TYPE|    ICMP_IPV4_TYPE|      DNS_QUERY_ID|   DNS_QUERY_TYPE|   DNS_TTL_ANSWER|FTP_COMMAND_RET_CODE|              Label|  Attack|\n",
            "+-------+-------------+------------------+-------------+------------------+------------------+-----------------+------------------+-----------------+-----------------+------------------+------------------+------------------+------------------+--------------------------+-----------------+------------------+------------------+-----------------+------------------+------------------+------------------+------------------+-----------------------+-----------------------+----------------------+---------------------+-----------------------+----------------------+-------------------------+-------------------------+------------------------+-------------------------+-------------------------+--------------------------+---------------------------+-----------------+------------------+------------------+------------------+------------------+-----------------+-----------------+--------------------+-------------------+--------+\n",
            "|  count|       388143|            388143|       388143|            388143|            388143|           388143|            388143|           388143|           388143|            388143|            388143|            388143|            388143|                    388143|           388143|            388143|            388143|           388143|            388143|            388143|            388143|            388143|                 388143|                 388143|                388143|               388143|                 388143|                388143|                   388143|                   388143|                  388143|                   388143|                   388143|                    388143|                     388143|           388143|            388143|            388143|            388143|            388143|           388143|           388143|              388143|             388143|  388143|\n",
            "|   mean|         NULL|40415.787024369885|         NULL|3285.1106499408725|10.240684489994667|53.17195337028176|  913.932687179725|9.274422055788717|4138.147146798989| 5.341781250724604|23.610105038606907|21.582164305423518|    9.409743316252|         2317892.711317736|  533.16029401535|14.376840494353885|53.230713937904326|53.30822918357409|261.96387413917034|62.939573816866464| 23.55276277042224|261.96387413917034|   1.771349107510450...|   1.830134407839153E13|    109.09168270457022|   0.5028172606487815|      572.5497947921256|    0.5761124121779859|       2903969.0217265286|        7136776.550745472|       32.47278966772556|        1.040624202935516|       0.5270480209613467|        0.3400885756022909|          2.670322535766457|5992.216592853665| 8283.800867206159| 3623.758086581492|14.155285551974401| 4574.882648920629|1.330118023511953|750.5266074616829|  1.5357200825468964| 0.6716210262712454|    NULL|\n",
            "| stddev|         NULL| 18367.96343218682|         NULL|10526.196931347593| 5.670289644396592|78.87475189430185|26858.629037579136|390.9646820228067|405598.6097204707|272.89619393664174| 57.58150710777732| 57.65565218191658|17.892841539027007|        2140177.8057703073|813.7372287128654|101.96444066586913| 39.23139919698643| 39.3153210728008| 422.9977548658312|44.002998881197904|27.153008443449476| 422.9977548658312|   3.034088488597988...|   3.174405255853339...|     8065.609223209593|    28.19081000078765|     13889.838991586003|      9.96993992802566|      1.801038097439951E7|      6.279777496628235E7|      1596.6812606326769|        17.66779512362318|       31.474487476848545|         11.54889992764515|          270.1977006270983|13174.15591316256|17620.316818713232|11340.986774284149|44.300648215526394|13437.820360885367| 8.99874664678327|19687.46075376311|   20.97974472668017|0.46962409600844446|    NULL|\n",
            "|    min|      0.0.0.0|                 0|      0.0.0.0|                 0|                 1|              0.0|                 4|                1|                0|                 0|                 0|                 0|                 0|                         0|                0|                 0|                 0|                0|                28|                28|                 0|                28|                    0.0|                    0.0|                     0|                    0|                      0|                     0|                        0|                        0|                       0|                        0|                        0|                         0|                          0|                0|                 0|                 0|                 0|                 0|                0|                0|                 0.0|                  0|Analysis|\n",
            "|    max|98.194.246.19|             65535|98.139.28.141|             65518|               253|            244.0|           4296120|            71602|         83815176|             56185|               223|               223|               222|                   4294966|           101147|              2395|               254|              255|              1913|              1478|               422|              1913|   6.178367257913184E17|   6.485547582093358...|               1644624|                 5832|                 817712|                   582|               2175248000|               4111644928|                  151921|                     2600|                     5833|                      1639|                      55825|            65535|             65535|             65280|               255|             65528|              255|           604800|               553.0|                  1|     xss|\n",
            "+-------+-------------+------------------+-------------+------------------+------------------+-----------------+------------------+-----------------+-----------------+------------------+------------------+------------------+------------------+--------------------------+-----------------+------------------+------------------+-----------------+------------------+------------------+------------------+------------------+-----------------------+-----------------------+----------------------+---------------------+-----------------------+----------------------+-------------------------+-------------------------+------------------------+-------------------------+-------------------------+--------------------------+---------------------------+-----------------+------------------+------------------+------------------+------------------+-----------------+-----------------+--------------------+-------------------+--------+\n",
            "\n"
          ]
        }
      ]
    },
    {
      "cell_type": "code",
      "source": [
        "# Index Catagorical columns to get correlation matrix\n",
        "indexers = [StringIndexer(inputCol=column, outputCol=column+\"_index\") for column in categorical_columns]\n",
        "encoders = [OneHotEncoder(inputCol=column+\"_index\", outputCol=column+\"_encoded\") for column in categorical_columns if column != 'Attack']\n",
        "pipeline = Pipeline(stages=indexers+encoders)\n",
        "data = pipeline.fit(data).transform(data)"
      ],
      "metadata": {
        "id": "1NdOjLU5DTRD"
      },
      "execution_count": 54,
      "outputs": []
    },
    {
      "cell_type": "code",
      "source": [
        "data = data.drop(*categorical_columns)\n",
        "indexed_cols = [column+\"_index\" for column in categorical_columns if column != 'Attack']\n",
        "data = data.drop(*indexed_cols)"
      ],
      "metadata": {
        "id": "j3M5nK-VSsPL"
      },
      "execution_count": 55,
      "outputs": []
    },
    {
      "cell_type": "code",
      "source": [
        "updated_schema = data.schema\n",
        "log = f'Data Schema after indexing and encoding:\\n{updated_schema}'\n",
        "\n",
        "data.printSchema()\n",
        "output_log.append(log)"
      ],
      "metadata": {
        "colab": {
          "base_uri": "https://localhost:8080/"
        },
        "id": "hCNFhMrhQXml",
        "outputId": "e95ac23a-698c-4df1-c2bc-6a079f19bc0c"
      },
      "execution_count": 56,
      "outputs": [
        {
          "output_type": "stream",
          "name": "stdout",
          "text": [
            "root\n",
            " |-- L4_SRC_PORT: integer (nullable = true)\n",
            " |-- L4_DST_PORT: integer (nullable = true)\n",
            " |-- PROTOCOL: integer (nullable = true)\n",
            " |-- L7_PROTO: double (nullable = true)\n",
            " |-- IN_BYTES: integer (nullable = true)\n",
            " |-- IN_PKTS: integer (nullable = true)\n",
            " |-- OUT_BYTES: integer (nullable = true)\n",
            " |-- OUT_PKTS: integer (nullable = true)\n",
            " |-- TCP_FLAGS: integer (nullable = true)\n",
            " |-- CLIENT_TCP_FLAGS: integer (nullable = true)\n",
            " |-- SERVER_TCP_FLAGS: integer (nullable = true)\n",
            " |-- FLOW_DURATION_MILLISECONDS: integer (nullable = true)\n",
            " |-- DURATION_IN: integer (nullable = true)\n",
            " |-- DURATION_OUT: integer (nullable = true)\n",
            " |-- MIN_TTL: integer (nullable = true)\n",
            " |-- MAX_TTL: integer (nullable = true)\n",
            " |-- LONGEST_FLOW_PKT: integer (nullable = true)\n",
            " |-- SHORTEST_FLOW_PKT: integer (nullable = true)\n",
            " |-- MIN_IP_PKT_LEN: integer (nullable = true)\n",
            " |-- MAX_IP_PKT_LEN: integer (nullable = true)\n",
            " |-- SRC_TO_DST_SECOND_BYTES: double (nullable = true)\n",
            " |-- DST_TO_SRC_SECOND_BYTES: double (nullable = true)\n",
            " |-- RETRANSMITTED_IN_BYTES: integer (nullable = true)\n",
            " |-- RETRANSMITTED_IN_PKTS: integer (nullable = true)\n",
            " |-- RETRANSMITTED_OUT_BYTES: integer (nullable = true)\n",
            " |-- RETRANSMITTED_OUT_PKTS: integer (nullable = true)\n",
            " |-- SRC_TO_DST_AVG_THROUGHPUT: long (nullable = true)\n",
            " |-- DST_TO_SRC_AVG_THROUGHPUT: long (nullable = true)\n",
            " |-- NUM_PKTS_UP_TO_128_BYTES: integer (nullable = true)\n",
            " |-- NUM_PKTS_128_TO_256_BYTES: integer (nullable = true)\n",
            " |-- NUM_PKTS_256_TO_512_BYTES: integer (nullable = true)\n",
            " |-- NUM_PKTS_512_TO_1024_BYTES: integer (nullable = true)\n",
            " |-- NUM_PKTS_1024_TO_1514_BYTES: integer (nullable = true)\n",
            " |-- TCP_WIN_MAX_IN: integer (nullable = true)\n",
            " |-- TCP_WIN_MAX_OUT: integer (nullable = true)\n",
            " |-- ICMP_TYPE: integer (nullable = true)\n",
            " |-- ICMP_IPV4_TYPE: integer (nullable = true)\n",
            " |-- DNS_QUERY_ID: integer (nullable = true)\n",
            " |-- DNS_QUERY_TYPE: integer (nullable = true)\n",
            " |-- DNS_TTL_ANSWER: integer (nullable = true)\n",
            " |-- FTP_COMMAND_RET_CODE: double (nullable = true)\n",
            " |-- Label: integer (nullable = true)\n",
            " |-- Attack_index: double (nullable = false)\n",
            " |-- IPV4_SRC_ADDR_encoded: vector (nullable = true)\n",
            " |-- IPV4_DST_ADDR_encoded: vector (nullable = true)\n",
            "\n"
          ]
        }
      ]
    },
    {
      "cell_type": "code",
      "source": [
        "log = 'Preprocessing complete'\n",
        "print(log)\n",
        "output_log.append(log)"
      ],
      "metadata": {
        "colab": {
          "base_uri": "https://localhost:8080/"
        },
        "id": "ossvz6Fd2_Tw",
        "outputId": "3186c270-c714-472d-a169-d5596288877d"
      },
      "execution_count": 57,
      "outputs": [
        {
          "output_type": "stream",
          "name": "stdout",
          "text": [
            "Preprocessing complete\n"
          ]
        }
      ]
    },
    {
      "cell_type": "markdown",
      "source": [
        "#### Assemble features and create train-test split"
      ],
      "metadata": {
        "id": "wfZy4lJhbdr-"
      }
    },
    {
      "cell_type": "code",
      "source": [
        "feature_columns = [field for (field, dataType) in data.dtypes if (dataType in ['double', 'int']) & (field not in output_columns)]"
      ],
      "metadata": {
        "id": "7OniXvzXZHJc"
      },
      "execution_count": 58,
      "outputs": []
    },
    {
      "cell_type": "code",
      "source": [
        "# Assemble features\n",
        "assembler = VectorAssembler(inputCols=feature_columns, outputCol=\"features\")\n",
        "data = assembler.transform(data)\n",
        "\n",
        "# Select label and features columns\n",
        "data_multi = data.select(\"features\", \"Attack_index\")\n",
        "data_binary = data.select(\"features\", \"Label\")\n",
        "\n",
        "# Split the data\n",
        "(Train_multi, Test_multi) = data_multi.randomSplit([0.7, 0.3], seed=42)\n",
        "(Train_binary, Test_binary) = data_binary.randomSplit([0.7, 0.3], seed=42)"
      ],
      "metadata": {
        "id": "2PUO0ASzZEUr"
      },
      "execution_count": 59,
      "outputs": []
    },
    {
      "cell_type": "code",
      "source": [
        "log = 'Data Splits created'\n",
        "print(log)\n",
        "output_log.append(log)"
      ],
      "metadata": {
        "colab": {
          "base_uri": "https://localhost:8080/"
        },
        "id": "_c31uXyVCYWv",
        "outputId": "cb32ace2-21e2-4b5b-9179-328e70ff3256"
      },
      "execution_count": 60,
      "outputs": [
        {
          "output_type": "stream",
          "name": "stdout",
          "text": [
            "Data Splits created\n"
          ]
        }
      ]
    },
    {
      "cell_type": "markdown",
      "source": [
        "# Random Forest Classifier"
      ],
      "metadata": {
        "id": "2WJhU_bAn1gV"
      }
    },
    {
      "cell_type": "markdown",
      "source": [
        "### Binary Classification - Attack (1) or not (0)"
      ],
      "metadata": {
        "id": "OZZXEx6ho4gR"
      }
    },
    {
      "cell_type": "code",
      "source": [
        "log = 'Binary Classification - Attack (1) or not (0) - starting\\nLoading saved model...'\n",
        "print(log)\n",
        "output_log.append(log)"
      ],
      "metadata": {
        "colab": {
          "base_uri": "https://localhost:8080/"
        },
        "id": "XRJIbAX-Cdpl",
        "outputId": "c0d7b846-149f-4695-9e87-4bf281a056a0"
      },
      "execution_count": 61,
      "outputs": [
        {
          "output_type": "stream",
          "name": "stdout",
          "text": [
            "Binary Classification - Attack (1) or not (0) - starting\n",
            "Loading saved model...\n"
          ]
        }
      ]
    },
    {
      "cell_type": "code",
      "source": [
        "rf_model_binary = None"
      ],
      "metadata": {
        "id": "Hp99-IlKBpa-"
      },
      "execution_count": 62,
      "outputs": []
    },
    {
      "cell_type": "code",
      "source": [
        "try:\n",
        "    rf_model_binary = RandomForestClassificationModel.load(f'{output_dir}/best_model_binary')\n",
        "    log = f'Best Model for binary classification loaded from {output_dir}/best_model_binary'\n",
        "    print(log)\n",
        "    output_log.append(log)\n",
        "except:\n",
        "    log = f'No saved model found at {output_dir}/best_model_binary'\n",
        "    print(log)\n",
        "    output_log.append(log)"
      ],
      "metadata": {
        "colab": {
          "base_uri": "https://localhost:8080/"
        },
        "id": "skvDI6S83LQ8",
        "outputId": "a03ba496-760a-41db-d94f-b7a03a9e50fd"
      },
      "execution_count": 63,
      "outputs": [
        {
          "output_type": "stream",
          "name": "stdout",
          "text": [
            "Best Model for binary classification loaded from project_output_dir/best_model_binary\n"
          ]
        }
      ]
    },
    {
      "cell_type": "code",
      "source": [
        "importances = rf_model_binary.featureImportances\n",
        "feat_imp = [f'{feature_columns[i]}: {importances[i]}' for i in range(len(feature_columns))]\n",
        "feat_imp = sorted(feat_imp, key=lambda x: float(x.split(':')[1]), reverse=True)\n",
        "feat_imp = '\\n'.join(feat_imp)\n",
        "log = f'Feature importances:\\n{feat_imp}'\n",
        "print(log)\n",
        "output_log.append(log)"
      ],
      "metadata": {
        "colab": {
          "base_uri": "https://localhost:8080/"
        },
        "id": "LS0E96VwFwKm",
        "outputId": "26f4cfe1-2279-40f4-d37a-cb2eb2b42ab1"
      },
      "execution_count": 64,
      "outputs": [
        {
          "output_type": "stream",
          "name": "stdout",
          "text": [
            "Feature importances:\n",
            "DURATION_IN: 0.14657789588095893\n",
            "L7_PROTO: 0.11765263208289697\n",
            "FLOW_DURATION_MILLISECONDS: 0.11424629142653457\n",
            "L4_DST_PORT: 0.07595447211449416\n",
            "DST_TO_SRC_SECOND_BYTES: 0.06460483827146225\n",
            "MAX_TTL: 0.05378901108124499\n",
            "SRC_TO_DST_SECOND_BYTES: 0.043696263836712414\n",
            "TCP_WIN_MAX_IN: 0.04128242619369633\n",
            "MIN_TTL: 0.03572678026950683\n",
            "MIN_IP_PKT_LEN: 0.03292065434668193\n",
            "OUT_BYTES: 0.02947619935959515\n",
            "MAX_IP_PKT_LEN: 0.02764452140108603\n",
            "DNS_QUERY_TYPE: 0.027259140600857667\n",
            "LONGEST_FLOW_PKT: 0.025279986201862864\n",
            "DNS_TTL_ANSWER: 0.021351132183223744\n",
            "OUT_PKTS: 0.018544220458133826\n",
            "CLIENT_TCP_FLAGS: 0.016777840202903148\n",
            "TCP_WIN_MAX_OUT: 0.014794074913660036\n",
            "SHORTEST_FLOW_PKT: 0.013668041705127768\n",
            "L4_SRC_PORT: 0.013523288741305466\n",
            "IN_BYTES: 0.012582713386226097\n",
            "DNS_QUERY_ID: 0.012034251514953447\n",
            "NUM_PKTS_UP_TO_128_BYTES: 0.009240722399647981\n",
            "IN_PKTS: 0.00884596582420533\n",
            "RETRANSMITTED_IN_PKTS: 0.00558232593363075\n",
            "TCP_FLAGS: 0.0038690689481156934\n",
            "ICMP_IPV4_TYPE: 0.0032523729860650026\n",
            "DURATION_OUT: 0.002903345092944041\n",
            "NUM_PKTS_128_TO_256_BYTES: 0.0023529090667041754\n",
            "NUM_PKTS_1024_TO_1514_BYTES: 0.0016460662063407002\n",
            "SERVER_TCP_FLAGS: 0.0013418086471536984\n",
            "RETRANSMITTED_OUT_PKTS: 0.0005901625734323855\n",
            "PROTOCOL: 0.0004064977859251655\n",
            "RETRANSMITTED_IN_BYTES: 0.0003451735730742758\n",
            "NUM_PKTS_512_TO_1024_BYTES: 0.00014263799638999407\n",
            "ICMP_TYPE: 5.420186213126269e-05\n",
            "NUM_PKTS_256_TO_512_BYTES: 4.006493111494633e-05\n",
            "RETRANSMITTED_OUT_BYTES: 0.0\n",
            "FTP_COMMAND_RET_CODE: 0.0\n"
          ]
        }
      ]
    },
    {
      "cell_type": "code",
      "source": [
        "if rf_model_binary is not None:\n",
        "    predictions = rf_model_binary.transform(Test_binary)\n",
        "\n",
        "    preds_and_labels = predictions.select(['prediction','Label']).rdd.map(lambda row: (float(row['prediction']), float(row['Label'])))\n",
        "    metrics = MulticlassMetrics(preds_and_labels)\n",
        "\n",
        "    conf_matrix = metrics.confusionMatrix().toArray()\n",
        "    log = f'Confusion Matrix:\\n{conf_matrix}'\n",
        "    print(log)\n",
        "    output_log.append(log)\n",
        "\n",
        "    FPR = metrics.falsePositiveRate(0.0)\n",
        "    log = f'False Positive Rate: {FPR}'\n",
        "    print(log)\n",
        "    output_log.append(log)\n",
        "\n",
        "    TPR = metrics.truePositiveRate(0.0)\n",
        "    log = f'True Positive Rate: {TPR}'\n",
        "    print(log)\n",
        "    output_log.append(log)\n",
        "\n",
        "    precision = metrics.precision(1.0)\n",
        "    log = f'Precision: {precision}'\n",
        "    print(log)\n",
        "    output_log.append(log)\n",
        "\n",
        "    recall = metrics.recall(1.0)\n",
        "    log = f'Recall: {recall}'\n",
        "    print(log)\n",
        "    output_log.append(log)\n",
        "\n",
        "    f1 = metrics.fMeasure(1.0)\n",
        "    log = f'F1 Score: {f1}'\n",
        "    print(log)\n",
        "    output_log.append(log)\n",
        "\n",
        "    accuracy = metrics.accuracy\n",
        "    log = f'Accuracy: {accuracy}'\n",
        "    print(log)\n",
        "    output_log.append(log)\n",
        "\n",
        "    log = 'Binary Classification - Attack (1) or not (0) - complete'\n",
        "    print(log)\n",
        "    output_log.append(log)"
      ],
      "metadata": {
        "colab": {
          "base_uri": "https://localhost:8080/"
        },
        "id": "MObH79yo4B_I",
        "outputId": "1522faa4-634e-46a9-d1c3-9b6052daec91"
      },
      "execution_count": 65,
      "outputs": [
        {
          "output_type": "stream",
          "name": "stderr",
          "text": [
            "/usr/local/lib/python3.10/dist-packages/pyspark/sql/context.py:158: FutureWarning: Deprecated in 3.0.0. Use SparkSession.builder.getOrCreate() instead.\n",
            "  warnings.warn(\n"
          ]
        },
        {
          "output_type": "stream",
          "name": "stdout",
          "text": [
            "Confusion Matrix:\n",
            "[[37131.  1071.]\n",
            " [ 3842. 74315.]]\n",
            "False Positive Rate: 0.0491574651022941\n",
            "True Positive Rate: 0.971964818595885\n",
            "Precision: 0.9857931180855862\n",
            "Recall: 0.9508425348977059\n",
            "F1 Score: 0.9680024488254104\n",
            "Accuracy: 0.9577772239362662\n",
            "Binary Classification - Attack (1) or not (0) - complete\n"
          ]
        }
      ]
    },
    {
      "cell_type": "markdown",
      "source": [
        "### Multi-class classification - Attack type"
      ],
      "metadata": {
        "id": "LFenXByXplq-"
      }
    },
    {
      "cell_type": "code",
      "source": [
        "log = 'Multi-class classification - Attack type - starting\\nLoading saved model...'\n",
        "print(log)\n",
        "output_log.append(log)"
      ],
      "metadata": {
        "colab": {
          "base_uri": "https://localhost:8080/"
        },
        "id": "5-DnhQHsDGFo",
        "outputId": "fa9c5e46-efea-41ee-ba67-d580c454315d"
      },
      "execution_count": 66,
      "outputs": [
        {
          "output_type": "stream",
          "name": "stdout",
          "text": [
            "Multi-class classification - Attack type - starting\n",
            "Loading saved model...\n"
          ]
        }
      ]
    },
    {
      "cell_type": "code",
      "source": [
        "rf_model_multi = None"
      ],
      "metadata": {
        "id": "hoJdO5QVBvYN"
      },
      "execution_count": 67,
      "outputs": []
    },
    {
      "cell_type": "code",
      "source": [
        "try:\n",
        "    rf_model_multi = RandomForestClassificationModel.load(f'{output_dir}/best_model_multiclass')\n",
        "    log = f'Best Model for multi-class classification loaded from {output_dir}/best_model_multiclass'\n",
        "    print(log)\n",
        "    output_log\n",
        "except:\n",
        "    log = f'No saved model found at {output_dir}/best_model_multiclass'\n",
        "    print(log)\n",
        "    output_log.append(log)"
      ],
      "metadata": {
        "colab": {
          "base_uri": "https://localhost:8080/"
        },
        "id": "nTCM_7eE5wN9",
        "outputId": "2362da22-f029-4e32-d01c-fb7232a32bf9"
      },
      "execution_count": 68,
      "outputs": [
        {
          "output_type": "stream",
          "name": "stdout",
          "text": [
            "Best Model for multi-class classification loaded from project_output_dir/best_model_multiclass\n"
          ]
        }
      ]
    },
    {
      "cell_type": "code",
      "source": [
        "importances = rf_model_multi.featureImportances\n",
        "feat_imp = [f'{feature_columns[i]}: {importances[i]}' for i in range(len(feature_columns))]\n",
        "feat_imp = sorted(feat_imp, key=lambda x: float(x.split(':')[1]), reverse=True)\n",
        "feat_imp = '\\n'.join(feat_imp)\n",
        "log = f'Feature importances:\\n{feat_imp}'\n",
        "print(log)\n",
        "output_log.append(log)"
      ],
      "metadata": {
        "colab": {
          "base_uri": "https://localhost:8080/"
        },
        "id": "kQ0VI8k7GsYb",
        "outputId": "6e2c17a6-61f0-4201-c7bd-8ed6cac6b87b"
      },
      "execution_count": 69,
      "outputs": [
        {
          "output_type": "stream",
          "name": "stdout",
          "text": [
            "Feature importances:\n",
            "L7_PROTO: 0.16957579237392256\n",
            "DURATION_IN: 0.13985018078641906\n",
            "NUM_PKTS_128_TO_256_BYTES: 0.12699122867955612\n",
            "FLOW_DURATION_MILLISECONDS: 0.07665390609761917\n",
            "MAX_IP_PKT_LEN: 0.06874763338592021\n",
            "SHORTEST_FLOW_PKT: 0.06113466225992124\n",
            "DST_TO_SRC_SECOND_BYTES: 0.05525962336182866\n",
            "NUM_PKTS_UP_TO_128_BYTES: 0.05050782459569403\n",
            "LONGEST_FLOW_PKT: 0.04362938621426567\n",
            "TCP_WIN_MAX_IN: 0.03953709911696397\n",
            "SRC_TO_DST_SECOND_BYTES: 0.03857702593204118\n",
            "MAX_TTL: 0.019410827544666533\n",
            "TCP_FLAGS: 0.013987667414481927\n",
            "IN_PKTS: 0.01372958919337835\n",
            "OUT_BYTES: 0.013005600761801697\n",
            "TCP_WIN_MAX_OUT: 0.0102236026342548\n",
            "IN_BYTES: 0.00956153302687746\n",
            "CLIENT_TCP_FLAGS: 0.009267323614093399\n",
            "DNS_TTL_ANSWER: 0.007434776939601664\n",
            "ICMP_IPV4_TYPE: 0.007222796011137007\n",
            "L4_DST_PORT: 0.005583901330022035\n",
            "OUT_PKTS: 0.0048804288667535535\n",
            "MIN_TTL: 0.0043338422834504255\n",
            "DURATION_OUT: 0.002274705353804831\n",
            "RETRANSMITTED_OUT_PKTS: 0.002025689175218738\n",
            "PROTOCOL: 0.0019837198411906576\n",
            "SERVER_TCP_FLAGS: 0.0018258406143619823\n",
            "DNS_QUERY_TYPE: 0.0010076879620981502\n",
            "L4_SRC_PORT: 0.00063391603853841\n",
            "NUM_PKTS_1024_TO_1514_BYTES: 0.00047922089468916605\n",
            "RETRANSMITTED_OUT_BYTES: 0.00029026584989496024\n",
            "MIN_IP_PKT_LEN: 0.0001638632543470466\n",
            "RETRANSMITTED_IN_PKTS: 0.00015799391096760985\n",
            "RETRANSMITTED_IN_BYTES: 4.700661976100473e-05\n",
            "ICMP_TYPE: 3.838060456799902e-06\n",
            "NUM_PKTS_256_TO_512_BYTES: 0.0\n",
            "NUM_PKTS_512_TO_1024_BYTES: 0.0\n",
            "DNS_QUERY_ID: 0.0\n",
            "FTP_COMMAND_RET_CODE: 0.0\n"
          ]
        }
      ]
    },
    {
      "cell_type": "code",
      "source": [
        "if rf_model_multi is not None:\n",
        "    predictions = rf_model_multi.transform(Test_multi)\n",
        "\n",
        "    preds_and_labels = predictions.select(['prediction','Attack_index']).rdd\n",
        "    metrics = MulticlassMetrics(preds_and_labels)\n",
        "\n",
        "    # conf_matrix = metrics.confusionMatrix().toArray()\n",
        "    # log = f'Confusion Matrix:\\n{conf_matrix}'\n",
        "    # print(log)\n",
        "    # output_log.append(log)\n",
        "\n",
        "    FPR = metrics.falsePositiveRate(1.0)\n",
        "    log = f'False Positive Rate: {FPR}'\n",
        "    print(log)\n",
        "    output_log.append(log)\n",
        "\n",
        "    TPR = metrics.truePositiveRate(1.0)\n",
        "    log = f'True Positive Rate: {TPR}'\n",
        "    print(log)\n",
        "    output_log.append(log)\n",
        "\n",
        "    precision = metrics.precision(1.0)\n",
        "    log = f'Precision: {precision}'\n",
        "    print(log)\n",
        "    output_log.append(log)\n",
        "\n",
        "    recall = metrics.recall(1.0)\n",
        "    log = f'Recall: {recall}'\n",
        "    print(log)\n",
        "    output_log.append(log)\n",
        "\n",
        "    f1 = metrics.fMeasure(1.0)\n",
        "    log = f'F1 Score: {f1}'\n",
        "    print(log)\n",
        "    output_log.append(log)\n",
        "\n",
        "    accuracy = metrics.accuracy\n",
        "    log = f'Accuracy: {accuracy}'\n",
        "    print(log)\n",
        "    output_log.append(log)\n",
        "\n",
        "    log = 'Multi-class classification - Attack type - complete'\n",
        "    print(log)\n",
        "    output_log.append(log)"
      ],
      "metadata": {
        "colab": {
          "base_uri": "https://localhost:8080/"
        },
        "id": "xnTdr0EK5_JM",
        "outputId": "ef3437fe-a148-4fd4-82a5-ee21a37979d3"
      },
      "execution_count": 70,
      "outputs": [
        {
          "output_type": "stream",
          "name": "stdout",
          "text": [
            "False Positive Rate: 0.012845671357884978\n",
            "True Positive Rate: 0.9719185487746276\n",
            "Precision: 0.9680806509512984\n",
            "Recall: 0.9719185487746276\n",
            "F1 Score: 0.9699958036088965\n",
            "Accuracy: 0.894705179659502\n",
            "Multi-class classification - Attack type - complete\n"
          ]
        }
      ]
    },
    {
      "cell_type": "markdown",
      "source": [
        "# Write output to output file and conclude"
      ],
      "metadata": {
        "id": "GM0vMhKV_uHW"
      }
    },
    {
      "cell_type": "code",
      "source": [
        "output_rdd = spark.sparkContext.parallelize(output_log)\n",
        "output_rdd.saveAsTextFile(f'{output_dir}/evaluation_logs')"
      ],
      "metadata": {
        "id": "Y2539RaP_4TD"
      },
      "execution_count": 71,
      "outputs": []
    },
    {
      "cell_type": "code",
      "source": [
        "spark.stop()"
      ],
      "metadata": {
        "id": "3c4wbBrVpqWv"
      },
      "execution_count": 72,
      "outputs": []
    }
  ]
}